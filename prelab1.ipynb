{
 "cells": [
  {
   "cell_type": "markdown",
   "metadata": {},
   "source": [
    "## Read Data"
   ]
  },
  {
   "cell_type": "code",
   "execution_count": 1,
   "metadata": {},
   "outputs": [
    {
     "name": "stdout",
     "output_type": "stream",
     "text": [
      "(7291, 256)\n"
     ]
    }
   ],
   "source": [
    "import numpy as np \n",
    "import os\n",
    "filename = os.path.join(os.getcwd() + '/data', 'train.txt')\n",
    "X_train = np.genfromtxt(filename)\n",
    "features = X_train[:, 1:]\n",
    "labels = X_train[:, 0]\n",
    "print(features.shape)"
   ]
  },
  {
   "cell_type": "code",
   "execution_count": null,
   "metadata": {},
   "outputs": [],
   "source": []
  },
  {
   "cell_type": "markdown",
   "metadata": {},
   "source": [
    "## Show Samples"
   ]
  },
  {
   "cell_type": "code",
   "execution_count": 2,
   "metadata": {},
   "outputs": [
    {
     "ename": "ModuleNotFoundError",
     "evalue": "No module named 'torch'",
     "output_type": "error",
     "traceback": [
      "\u001b[0;31m---------------------------------------------------------------------------\u001b[0m",
      "\u001b[0;31mModuleNotFoundError\u001b[0m                       Traceback (most recent call last)",
      "\u001b[0;32m/var/folders/cs/mpbcgf6571x5gh03gh99thx00000gn/T/ipykernel_1875/2833304583.py\u001b[0m in \u001b[0;36m<module>\u001b[0;34m\u001b[0m\n\u001b[0;32m----> 1\u001b[0;31m \u001b[0;32mfrom\u001b[0m \u001b[0mlib\u001b[0m \u001b[0;32mimport\u001b[0m \u001b[0mshow_sample\u001b[0m\u001b[0;34m\u001b[0m\u001b[0;34m\u001b[0m\u001b[0m\n\u001b[0m\u001b[1;32m      2\u001b[0m \u001b[0mshow_sample\u001b[0m\u001b[0;34m(\u001b[0m\u001b[0mfeatures\u001b[0m\u001b[0;34m,\u001b[0m \u001b[0;36m131\u001b[0m\u001b[0;34m)\u001b[0m\u001b[0;34m\u001b[0m\u001b[0;34m\u001b[0m\u001b[0m\n",
      "\u001b[0;32m~/Downloads/DSML/Pattern Recognition/patrec-labs/lab1/lib.py\u001b[0m in \u001b[0;36m<module>\u001b[0;34m\u001b[0m\n\u001b[1;32m     18\u001b[0m \u001b[0;32mfrom\u001b[0m \u001b[0msklearn\u001b[0m\u001b[0;34m.\u001b[0m\u001b[0mpreprocessing\u001b[0m \u001b[0;32mimport\u001b[0m \u001b[0mStandardScaler\u001b[0m\u001b[0;34m\u001b[0m\u001b[0;34m\u001b[0m\u001b[0m\n\u001b[1;32m     19\u001b[0m \u001b[0;32mfrom\u001b[0m \u001b[0msklearn\u001b[0m\u001b[0;34m.\u001b[0m\u001b[0mpipeline\u001b[0m \u001b[0;32mimport\u001b[0m \u001b[0mmake_pipeline\u001b[0m\u001b[0;34m\u001b[0m\u001b[0;34m\u001b[0m\u001b[0m\n\u001b[0;32m---> 20\u001b[0;31m \u001b[0;32mfrom\u001b[0m \u001b[0mtorch\u001b[0m\u001b[0;34m.\u001b[0m\u001b[0mutils\u001b[0m\u001b[0;34m.\u001b[0m\u001b[0mdata\u001b[0m \u001b[0;32mimport\u001b[0m \u001b[0mDataLoader\u001b[0m\u001b[0;34m\u001b[0m\u001b[0;34m\u001b[0m\u001b[0m\n\u001b[0m\u001b[1;32m     21\u001b[0m \u001b[0;32mfrom\u001b[0m \u001b[0msklearn\u001b[0m\u001b[0;34m.\u001b[0m\u001b[0mmodel_selection\u001b[0m \u001b[0;32mimport\u001b[0m \u001b[0mtrain_test_split\u001b[0m\u001b[0;34m\u001b[0m\u001b[0;34m\u001b[0m\u001b[0m\n\u001b[1;32m     22\u001b[0m \u001b[0;32mimport\u001b[0m \u001b[0mpandas\u001b[0m \u001b[0;32mas\u001b[0m \u001b[0mpd\u001b[0m\u001b[0;34m\u001b[0m\u001b[0;34m\u001b[0m\u001b[0m\n",
      "\u001b[0;31mModuleNotFoundError\u001b[0m: No module named 'torch'"
     ]
    }
   ],
   "source": [
    "from lib import show_sample\n",
    "show_sample(features, 131)"
   ]
  },
  {
   "cell_type": "markdown",
   "metadata": {},
   "source": [
    "## Subplot Labels"
   ]
  },
  {
   "cell_type": "code",
   "execution_count": null,
   "metadata": {},
   "outputs": [
    {
     "ename": "ModuleNotFoundError",
     "evalue": "No module named 'torch'",
     "output_type": "error",
     "traceback": [
      "\u001b[0;31m---------------------------------------------------------------------------\u001b[0m",
      "\u001b[0;31mModuleNotFoundError\u001b[0m                       Traceback (most recent call last)",
      "\u001b[0;32m/var/folders/cs/mpbcgf6571x5gh03gh99thx00000gn/T/ipykernel_978/3826025710.py\u001b[0m in \u001b[0;36m<module>\u001b[0;34m\u001b[0m\n\u001b[0;32m----> 1\u001b[0;31m \u001b[0;32mfrom\u001b[0m \u001b[0mlib\u001b[0m \u001b[0;32mimport\u001b[0m \u001b[0mplot_digit_samples\u001b[0m\u001b[0;34m\u001b[0m\u001b[0;34m\u001b[0m\u001b[0m\n\u001b[0m\u001b[1;32m      2\u001b[0m \u001b[0mplot_digit_samples\u001b[0m\u001b[0;34m(\u001b[0m\u001b[0mfeatures\u001b[0m\u001b[0;34m,\u001b[0m \u001b[0mlabels\u001b[0m\u001b[0;34m)\u001b[0m\u001b[0;34m\u001b[0m\u001b[0;34m\u001b[0m\u001b[0m\n",
      "\u001b[0;32m~/Downloads/DSML/Pattern Recognition/patrec-labs/lab1/lib.py\u001b[0m in \u001b[0;36m<module>\u001b[0;34m\u001b[0m\n\u001b[1;32m     12\u001b[0m \u001b[0;32mfrom\u001b[0m \u001b[0msklearn\u001b[0m\u001b[0;34m.\u001b[0m\u001b[0mneighbors\u001b[0m \u001b[0;32mimport\u001b[0m \u001b[0mKNeighborsClassifier\u001b[0m\u001b[0;34m\u001b[0m\u001b[0;34m\u001b[0m\u001b[0m\n\u001b[1;32m     13\u001b[0m \u001b[0;32mfrom\u001b[0m \u001b[0msklearn\u001b[0m\u001b[0;34m.\u001b[0m\u001b[0mensemble\u001b[0m \u001b[0;32mimport\u001b[0m \u001b[0mVotingClassifier\u001b[0m\u001b[0;34m,\u001b[0m \u001b[0mBaggingClassifier\u001b[0m\u001b[0;34m\u001b[0m\u001b[0;34m\u001b[0m\u001b[0m\n\u001b[0;32m---> 14\u001b[0;31m \u001b[0;32mimport\u001b[0m \u001b[0mtorch\u001b[0m\u001b[0;34m\u001b[0m\u001b[0;34m\u001b[0m\u001b[0m\n\u001b[0m\u001b[1;32m     15\u001b[0m \u001b[0;32mfrom\u001b[0m \u001b[0mtorchvision\u001b[0m \u001b[0;32mimport\u001b[0m \u001b[0mtransforms\u001b[0m\u001b[0;34m,\u001b[0m \u001b[0mutils\u001b[0m\u001b[0;34m\u001b[0m\u001b[0;34m\u001b[0m\u001b[0m\n\u001b[1;32m     16\u001b[0m \u001b[0;32mimport\u001b[0m \u001b[0mtorch\u001b[0m\u001b[0;34m.\u001b[0m\u001b[0mnn\u001b[0m \u001b[0;32mas\u001b[0m \u001b[0mnn\u001b[0m\u001b[0;34m\u001b[0m\u001b[0;34m\u001b[0m\u001b[0m\n",
      "\u001b[0;31mModuleNotFoundError\u001b[0m: No module named 'torch'"
     ]
    }
   ],
   "source": [
    "from lib import plot_digit_samples\n",
    "plot_digit_samples(features, labels)"
   ]
  },
  {
   "cell_type": "markdown",
   "metadata": {},
   "source": [
    "## Mean at pxl"
   ]
  },
  {
   "cell_type": "code",
   "execution_count": null,
   "metadata": {},
   "outputs": [
    {
     "name": "stdout",
     "output_type": "stream",
     "text": [
      "Mean at pixel (10, 10) of digit 0 = -0.5042\n"
     ]
    }
   ],
   "source": [
    "from lib import digit_mean_at_pixel\n",
    "\n",
    "print('Mean at pixel (10, 10) of digit 0 =', '%.4f' % digit_mean_at_pixel(features, labels, 0))"
   ]
  },
  {
   "cell_type": "markdown",
   "metadata": {},
   "source": [
    "## Variance at pxl"
   ]
  },
  {
   "cell_type": "code",
   "execution_count": null,
   "metadata": {},
   "outputs": [
    {
     "name": "stdout",
     "output_type": "stream",
     "text": [
      "Variance at pixel (10, 10) of digit 0 = 0.5245\n"
     ]
    }
   ],
   "source": [
    "from lib import digit_variance_at_pixel\n",
    "\n",
    "print('Variance at pixel (10, 10) of digit 0 =','%.4f' % digit_variance_at_pixel(features, labels, 0))"
   ]
  },
  {
   "cell_type": "markdown",
   "metadata": {},
   "source": [
    "## Mean and Variance at digit"
   ]
  },
  {
   "cell_type": "code",
   "execution_count": null,
   "metadata": {},
   "outputs": [
    {
     "name": "stdout",
     "output_type": "stream",
     "text": [
      "[0.00224522 0.00660664 0.01959062 0.0629012  0.18036652]\n",
      "\n"
     ]
    }
   ],
   "source": [
    "from lib import digit_mean, digit_variance\n",
    "print(digit_variance(features, labels, 0)[0, :5])\n",
    "# digit_mean(features, labels, 0)[0, :5]\n",
    "print()"
   ]
  },
  {
   "cell_type": "markdown",
   "metadata": {},
   "source": [
    "## Show Mean at digit"
   ]
  },
  {
   "cell_type": "code",
   "execution_count": null,
   "metadata": {},
   "outputs": [
    {
     "data": {
      "image/png": "[encoded data removed]",
      "text/plain": [
       "<Figure size 432x288 with 1 Axes>"
      ]
     },
     "metadata": {
      "needs_background": "light"
     },
     "output_type": "display_data"
    }
   ],
   "source": [
    "from lib import show_digit_mean\n",
    "show_digit_mean(features, labels, 0)"
   ]
  },
  {
   "cell_type": "code",
   "execution_count": null,
   "metadata": {},
   "outputs": [],
   "source": [
    "import matplotlib.pyplot as plt"
   ]
  },
  {
   "cell_type": "markdown",
   "metadata": {},
   "source": [
    "## Show Variance at digit"
   ]
  },
  {
   "cell_type": "code",
   "execution_count": null,
   "metadata": {},
   "outputs": [
    {
     "data": {
      "image/png": "[encoded data removed]",
      "text/plain": [
       "<Figure size 432x288 with 1 Axes>"
      ]
     },
     "metadata": {
      "needs_background": "light"
     },
     "output_type": "display_data"
    }
   ],
   "source": [
    "from lib import show_digit_variance\n",
    "show_digit_variance(features, labels, 0)"
   ]
  },
  {
   "cell_type": "markdown",
   "metadata": {},
   "source": [
    "## Mean at every digit"
   ]
  },
  {
   "cell_type": "code",
   "execution_count": null,
   "metadata": {},
   "outputs": [
    {
     "name": "stdout",
     "output_type": "stream",
     "text": [
      "Array of means per digit has shape = (10, 256)\n"
     ]
    }
   ],
   "source": [
    "unique_labels = np.unique(labels)\n",
    "mean_per_digit = np.array(\n",
    "    [digit_mean(features, labels, digit).reshape(256,) \n",
    "        for digit in unique_labels])\n",
    "print('Array of means per digit has shape =', mean_per_digit.shape)"
   ]
  },
  {
   "cell_type": "markdown",
   "metadata": {},
   "source": [
    "## Variance at every digit"
   ]
  },
  {
   "cell_type": "code",
   "execution_count": null,
   "metadata": {},
   "outputs": [
    {
     "name": "stdout",
     "output_type": "stream",
     "text": [
      "(array([], dtype=int64), array([], dtype=int64))\n",
      "[7.95348958e-180 6.17749445e-292 4.40119896e-134 4.77848298e-183\n",
      " 1.08069879e-179 6.38106512e-147 9.34304220e-257 9.20796829e-235\n",
      " 5.33700432e-196 2.09686636e-238]\n",
      "Array of variances per digit has shape = (10, 256)\n"
     ]
    }
   ],
   "source": [
    "var_per_digit = np.array([\n",
    "    digit_variance(features, labels, digit).reshape(256,) \n",
    "        for digit in unique_labels])\n",
    "\n",
    "var_per_digit[np.where(var_per_digit == 0)] = 1\n",
    "print(np.where(var_per_digit == 0))\n",
    "print(np.prod(var_per_digit, axis = 1))\n",
    "\n",
    "print('Array of variances per digit has shape =', var_per_digit.shape)\n",
    "# close by pixels should have small relevant var and pixels far away should have relatively larger diff on var\n",
    "# The fat 'tails' on var plots are logical as they represent the difference from mean \n",
    "# Naive Bayes to be implemented by hand, the rest to be imported\n",
    "# Cross val only on train set (AFTER finding best model THEN check if results are same on test(scorewise))\n",
    "# Take weak learners that make different mistakes on an ensemble method(use together those that make diff mistakes)\n",
    "# better use the long implement on NN"
   ]
  },
  {
   "cell_type": "markdown",
   "metadata": {},
   "source": [
    "## Show Mean at every digit"
   ]
  },
  {
   "cell_type": "code",
   "execution_count": null,
   "metadata": {},
   "outputs": [
    {
     "data": {
      "image/png": "[encoded data removed]",
      "text/plain": [
       "<Figure size 432x288 with 10 Axes>"
      ]
     },
     "metadata": {
      "needs_background": "light"
     },
     "output_type": "display_data"
    }
   ],
   "source": [
    "from lib import plot_digit_means\n",
    "\n",
    "plot_digit_means(features, labels)"
   ]
  },
  {
   "cell_type": "markdown",
   "metadata": {},
   "source": [
    "## Read Test Data"
   ]
  },
  {
   "cell_type": "code",
   "execution_count": null,
   "metadata": {},
   "outputs": [
    {
     "name": "stdout",
     "output_type": "stream",
     "text": [
      "(2007, 256)\n"
     ]
    }
   ],
   "source": [
    "from lib import euclidean_distance, euclidean_distance_classifier\n",
    "\n",
    "filename = os.path.join(os.getcwd() + '\\data', 'test.txt')\n",
    "X_test = np.genfromtxt(filename)\n",
    "features = X_test[:,1:]\n",
    "labels = X_test[:,0]\n",
    "print(features.shape)"
   ]
  },
  {
   "cell_type": "markdown",
   "metadata": {},
   "source": [
    "## Classify Test Sample 101 "
   ]
  },
  {
   "cell_type": "code",
   "execution_count": null,
   "metadata": {},
   "outputs": [
    {
     "name": "stdout",
     "output_type": "stream",
     "text": [
      "False\n"
     ]
    }
   ],
   "source": [
    "classifier_results = euclidean_distance_classifier(features[101], mean_per_digit)\n",
    "print(classifier_results==labels[101])"
   ]
  },
  {
   "cell_type": "markdown",
   "metadata": {},
   "source": [
    "## Classify Test Samples"
   ]
  },
  {
   "cell_type": "code",
   "execution_count": null,
   "metadata": {},
   "outputs": [],
   "source": [
    "classifier_results = euclidean_distance_classifier(features, mean_per_digit)"
   ]
  },
  {
   "cell_type": "markdown",
   "metadata": {},
   "source": [
    "## Calculate Accuracy"
   ]
  },
  {
   "cell_type": "code",
   "execution_count": null,
   "metadata": {},
   "outputs": [
    {
     "data": {
      "text/plain": [
       "0.8141504733432985"
      ]
     },
     "execution_count": 16,
     "metadata": {},
     "output_type": "execute_result"
    }
   ],
   "source": [
    "sum(classifier_results == labels)/len(labels)"
   ]
  },
  {
   "cell_type": "markdown",
   "metadata": {},
   "source": [
    "## Euclid scikit-learn estimator"
   ]
  },
  {
   "cell_type": "markdown",
   "metadata": {},
   "source": [
    "* **Fit Model**"
   ]
  },
  {
   "cell_type": "code",
   "execution_count": null,
   "metadata": {},
   "outputs": [
    {
     "data": {
      "text/plain": [
       "EuclideanDistanceClassifier()"
      ]
     },
     "execution_count": 17,
     "metadata": {},
     "output_type": "execute_result"
    }
   ],
   "source": [
    "from lib import EuclideanDistanceClassifier\n",
    "import numpy as np \n",
    "import os \n",
    "filename = os.path.join(os.getcwd() + '\\data', 'train.txt')\n",
    "X_train = np.genfromtxt(filename)\n",
    "train_features = X_train[:, 1:]\n",
    "train_labels = X_train[:, 0]\n",
    "\n",
    "edc = EuclideanDistanceClassifier()\n",
    "edc.fit(train_features, train_labels)\n"
   ]
  },
  {
   "cell_type": "markdown",
   "metadata": {},
   "source": [
    "* **Predict Digits**"
   ]
  },
  {
   "cell_type": "code",
   "execution_count": null,
   "metadata": {},
   "outputs": [],
   "source": [
    "filename = os.path.join(os.getcwd() + '\\data', 'test.txt')\n",
    "X_test = np.genfromtxt(filename)\n",
    "\n",
    "test_features = X_test[:,1:]\n",
    "test_labels = X_test[:,0]\n",
    "\n",
    "y_predict = edc.predict(test_features)"
   ]
  },
  {
   "cell_type": "markdown",
   "metadata": {},
   "source": [
    "* **Accuracy Score**"
   ]
  },
  {
   "cell_type": "code",
   "execution_count": null,
   "metadata": {},
   "outputs": [
    {
     "data": {
      "text/plain": [
       "0.851323549581676"
      ]
     },
     "execution_count": 19,
     "metadata": {},
     "output_type": "execute_result"
    }
   ],
   "source": [
    "edc.score(train_features, train_labels)"
   ]
  },
  {
   "cell_type": "markdown",
   "metadata": {},
   "source": [
    "* **Cross Validation**"
   ]
  },
  {
   "cell_type": "code",
   "execution_count": null,
   "metadata": {},
   "outputs": [
    {
     "name": "stderr",
     "output_type": "stream",
     "text": [
      "c:\\Users\\Jim\\Desktop\\DSML\\PatternRecognition\\Patternenv\\lib\\site-packages\\numpy\\lib\\function_base.py:4454: VisibleDeprecationWarning: Creating an ndarray from ragged nested sequences (which is a list-or-tuple of lists-or-tuples-or ndarrays with different lengths or shapes) is deprecated. If you meant to do this, you must specify 'dtype=object' when creating the ndarray.\n",
      "  arr = asarray(arr)\n"
     ]
    },
    {
     "name": "stdout",
     "output_type": "stream",
     "text": [
      "[array([4., 4., 4., ..., 1., 4., 3.]) array([1., 0., 1., ..., 7., 2., 5.])\n",
      " array([1., 6., 8., ..., 0., 6., 7.]) array([1., 0., 0., ..., 2., 9., 0.])] [array([[-1.   , -1.   , -1.   , ..., -1.   , -1.   , -1.   ],\n",
      "        [-1.   , -1.   , -1.   , ..., -1.   , -1.   , -1.   ],\n",
      "        [-1.   , -1.   , -1.   , ..., -1.   , -1.   , -1.   ],\n",
      "        ...,\n",
      "        [-1.   , -1.   , -1.   , ..., -1.   , -1.   , -1.   ],\n",
      "        [-1.   , -1.   , -1.   , ..., -1.   , -1.   , -1.   ],\n",
      "        [-1.   , -1.   , -0.915, ..., -1.   , -1.   , -1.   ]])\n",
      " array([[-1.   , -1.   , -1.   , ..., -1.   , -1.   , -1.   ],\n",
      "        [-1.   , -1.   , -1.   , ..., -0.856, -1.   , -1.   ],\n",
      "        [-1.   , -1.   , -1.   , ..., -1.   , -1.   , -1.   ],\n",
      "        ...,\n",
      "        [-1.   , -1.   , -1.   , ..., -1.   , -1.   , -1.   ],\n",
      "        [-1.   , -1.   , -1.   , ..., -0.79 , -1.   , -1.   ],\n",
      "        [-1.   , -1.   , -1.   , ..., -1.   , -1.   , -1.   ]])\n",
      " array([[-1., -1., -1., ..., -1., -1., -1.],\n",
      "        [-1., -1., -1., ..., -1., -1., -1.],\n",
      "        [-1., -1., -1., ..., -1., -1., -1.],\n",
      "        ...,\n",
      "        [-1., -1., -1., ..., -1., -1., -1.],\n",
      "        [-1., -1., -1., ..., -1., -1., -1.],\n",
      "        [-1., -1., -1., ..., -1., -1., -1.]])\n",
      " array([[-1., -1., -1., ..., -1., -1., -1.],\n",
      "        [-1., -1., -1., ..., -1., -1., -1.],\n",
      "        [-1., -1., -1., ..., -1., -1., -1.],\n",
      "        ...,\n",
      "        [-1., -1., -1., ..., -1., -1., -1.],\n",
      "        [-1., -1., -1., ..., -1., -1., -1.],\n",
      "        [-1., -1., -1., ..., -1., -1., -1.]])]\n",
      "[array([0., 0., 2., ..., 0., 1., 9.]) array([1., 0., 1., ..., 7., 2., 5.])\n",
      " array([1., 6., 8., ..., 0., 6., 7.]) array([1., 0., 0., ..., 2., 9., 0.])] [array([[-1.   , -1.   , -0.74 , ..., -1.   , -1.   , -1.   ],\n",
      "        [-1.   , -1.   , -1.   , ..., -1.   , -1.   , -1.   ],\n",
      "        [-1.   , -1.   , -0.961, ..., -1.   , -1.   , -1.   ],\n",
      "        ...,\n",
      "        [-1.   , -1.   , -0.663, ..., -1.   , -1.   , -1.   ],\n",
      "        [-1.   , -1.   , -1.   , ..., -1.   , -1.   , -1.   ],\n",
      "        [-1.   , -1.   , -1.   , ..., -1.   , -1.   , -1.   ]])\n",
      " array([[-1.   , -1.   , -1.   , ..., -1.   , -1.   , -1.   ],\n",
      "        [-1.   , -1.   , -1.   , ..., -0.856, -1.   , -1.   ],\n",
      "        [-1.   , -1.   , -1.   , ..., -1.   , -1.   , -1.   ],\n",
      "        ...,\n",
      "        [-1.   , -1.   , -1.   , ..., -1.   , -1.   , -1.   ],\n",
      "        [-1.   , -1.   , -1.   , ..., -0.79 , -1.   , -1.   ],\n",
      "        [-1.   , -1.   , -1.   , ..., -1.   , -1.   , -1.   ]])\n",
      " array([[-1., -1., -1., ..., -1., -1., -1.],\n",
      "        [-1., -1., -1., ..., -1., -1., -1.],\n",
      "        [-1., -1., -1., ..., -1., -1., -1.],\n",
      "        ...,\n",
      "        [-1., -1., -1., ..., -1., -1., -1.],\n",
      "        [-1., -1., -1., ..., -1., -1., -1.],\n",
      "        [-1., -1., -1., ..., -1., -1., -1.]])\n",
      " array([[-1., -1., -1., ..., -1., -1., -1.],\n",
      "        [-1., -1., -1., ..., -1., -1., -1.],\n",
      "        [-1., -1., -1., ..., -1., -1., -1.],\n",
      "        ...,\n",
      "        [-1., -1., -1., ..., -1., -1., -1.],\n",
      "        [-1., -1., -1., ..., -1., -1., -1.],\n",
      "        [-1., -1., -1., ..., -1., -1., -1.]])]\n",
      "[array([0., 0., 2., ..., 0., 1., 9.]) array([4., 4., 4., ..., 1., 4., 3.])\n",
      " array([1., 6., 8., ..., 0., 6., 7.]) array([1., 0., 0., ..., 2., 9., 0.])] [array([[-1.   , -1.   , -0.74 , ..., -1.   , -1.   , -1.   ],\n",
      "        [-1.   , -1.   , -1.   , ..., -1.   , -1.   , -1.   ],\n",
      "        [-1.   , -1.   , -0.961, ..., -1.   , -1.   , -1.   ],\n",
      "        ...,\n",
      "        [-1.   , -1.   , -0.663, ..., -1.   , -1.   , -1.   ],\n",
      "        [-1.   , -1.   , -1.   , ..., -1.   , -1.   , -1.   ],\n",
      "        [-1.   , -1.   , -1.   , ..., -1.   , -1.   , -1.   ]])\n",
      " array([[-1.   , -1.   , -1.   , ..., -1.   , -1.   , -1.   ],\n",
      "        [-1.   , -1.   , -1.   , ..., -1.   , -1.   , -1.   ],\n",
      "        [-1.   , -1.   , -1.   , ..., -1.   , -1.   , -1.   ],\n",
      "        ...,\n",
      "        [-1.   , -1.   , -1.   , ..., -1.   , -1.   , -1.   ],\n",
      "        [-1.   , -1.   , -1.   , ..., -1.   , -1.   , -1.   ],\n",
      "        [-1.   , -1.   , -0.915, ..., -1.   , -1.   , -1.   ]])\n",
      " array([[-1., -1., -1., ..., -1., -1., -1.],\n",
      "        [-1., -1., -1., ..., -1., -1., -1.],\n",
      "        [-1., -1., -1., ..., -1., -1., -1.],\n",
      "        ...,\n",
      "        [-1., -1., -1., ..., -1., -1., -1.],\n",
      "        [-1., -1., -1., ..., -1., -1., -1.],\n",
      "        [-1., -1., -1., ..., -1., -1., -1.]])\n",
      " array([[-1., -1., -1., ..., -1., -1., -1.],\n",
      "        [-1., -1., -1., ..., -1., -1., -1.],\n",
      "        [-1., -1., -1., ..., -1., -1., -1.],\n",
      "        ...,\n",
      "        [-1., -1., -1., ..., -1., -1., -1.],\n",
      "        [-1., -1., -1., ..., -1., -1., -1.],\n",
      "        [-1., -1., -1., ..., -1., -1., -1.]])]\n",
      "[array([0., 0., 2., ..., 0., 1., 9.]) array([4., 4., 4., ..., 1., 4., 3.])\n",
      " array([1., 0., 1., ..., 7., 2., 5.]) array([1., 0., 0., ..., 2., 9., 0.])] [array([[-1.   , -1.   , -0.74 , ..., -1.   , -1.   , -1.   ],\n",
      "        [-1.   , -1.   , -1.   , ..., -1.   , -1.   , -1.   ],\n",
      "        [-1.   , -1.   , -0.961, ..., -1.   , -1.   , -1.   ],\n",
      "        ...,\n",
      "        [-1.   , -1.   , -0.663, ..., -1.   , -1.   , -1.   ],\n",
      "        [-1.   , -1.   , -1.   , ..., -1.   , -1.   , -1.   ],\n",
      "        [-1.   , -1.   , -1.   , ..., -1.   , -1.   , -1.   ]])\n",
      " array([[-1.   , -1.   , -1.   , ..., -1.   , -1.   , -1.   ],\n",
      "        [-1.   , -1.   , -1.   , ..., -1.   , -1.   , -1.   ],\n",
      "        [-1.   , -1.   , -1.   , ..., -1.   , -1.   , -1.   ],\n",
      "        ...,\n",
      "        [-1.   , -1.   , -1.   , ..., -1.   , -1.   , -1.   ],\n",
      "        [-1.   , -1.   , -1.   , ..., -1.   , -1.   , -1.   ],\n",
      "        [-1.   , -1.   , -0.915, ..., -1.   , -1.   , -1.   ]])\n",
      " array([[-1.   , -1.   , -1.   , ..., -1.   , -1.   , -1.   ],\n",
      "        [-1.   , -1.   , -1.   , ..., -0.856, -1.   , -1.   ],\n",
      "        [-1.   , -1.   , -1.   , ..., -1.   , -1.   , -1.   ],\n",
      "        ...,\n",
      "        [-1.   , -1.   , -1.   , ..., -1.   , -1.   , -1.   ],\n",
      "        [-1.   , -1.   , -1.   , ..., -0.79 , -1.   , -1.   ],\n",
      "        [-1.   , -1.   , -1.   , ..., -1.   , -1.   , -1.   ]])\n",
      " array([[-1., -1., -1., ..., -1., -1., -1.],\n",
      "        [-1., -1., -1., ..., -1., -1., -1.],\n",
      "        [-1., -1., -1., ..., -1., -1., -1.],\n",
      "        ...,\n",
      "        [-1., -1., -1., ..., -1., -1., -1.],\n",
      "        [-1., -1., -1., ..., -1., -1., -1.],\n",
      "        [-1., -1., -1., ..., -1., -1., -1.]])]\n",
      "[array([0., 0., 2., ..., 0., 1., 9.]) array([4., 4., 4., ..., 1., 4., 3.])\n",
      " array([1., 0., 1., ..., 7., 2., 5.]) array([1., 6., 8., ..., 0., 6., 7.])] [array([[-1.   , -1.   , -0.74 , ..., -1.   , -1.   , -1.   ],\n",
      "        [-1.   , -1.   , -1.   , ..., -1.   , -1.   , -1.   ],\n",
      "        [-1.   , -1.   , -0.961, ..., -1.   , -1.   , -1.   ],\n",
      "        ...,\n",
      "        [-1.   , -1.   , -0.663, ..., -1.   , -1.   , -1.   ],\n",
      "        [-1.   , -1.   , -1.   , ..., -1.   , -1.   , -1.   ],\n",
      "        [-1.   , -1.   , -1.   , ..., -1.   , -1.   , -1.   ]])\n",
      " array([[-1.   , -1.   , -1.   , ..., -1.   , -1.   , -1.   ],\n",
      "        [-1.   , -1.   , -1.   , ..., -1.   , -1.   , -1.   ],\n",
      "        [-1.   , -1.   , -1.   , ..., -1.   , -1.   , -1.   ],\n",
      "        ...,\n",
      "        [-1.   , -1.   , -1.   , ..., -1.   , -1.   , -1.   ],\n",
      "        [-1.   , -1.   , -1.   , ..., -1.   , -1.   , -1.   ],\n",
      "        [-1.   , -1.   , -0.915, ..., -1.   , -1.   , -1.   ]])\n",
      " array([[-1.   , -1.   , -1.   , ..., -1.   , -1.   , -1.   ],\n",
      "        [-1.   , -1.   , -1.   , ..., -0.856, -1.   , -1.   ],\n",
      "        [-1.   , -1.   , -1.   , ..., -1.   , -1.   , -1.   ],\n",
      "        ...,\n",
      "        [-1.   , -1.   , -1.   , ..., -1.   , -1.   , -1.   ],\n",
      "        [-1.   , -1.   , -1.   , ..., -0.79 , -1.   , -1.   ],\n",
      "        [-1.   , -1.   , -1.   , ..., -1.   , -1.   , -1.   ]])\n",
      " array([[-1., -1., -1., ..., -1., -1., -1.],\n",
      "        [-1., -1., -1., ..., -1., -1., -1.],\n",
      "        [-1., -1., -1., ..., -1., -1., -1.],\n",
      "        ...,\n",
      "        [-1., -1., -1., ..., -1., -1., -1.],\n",
      "        [-1., -1., -1., ..., -1., -1., -1.],\n",
      "        [-1., -1., -1., ..., -1., -1., -1.]])]\n",
      "0.8494030242259623\n"
     ]
    }
   ],
   "source": [
    "from lib import evaluate_classifier\n",
    "\n",
    "features = np.concatenate((train_features, test_features), axis = 0)\n",
    "labels = np.concatenate((train_labels, test_labels), axis = 0)\n",
    "print(evaluate_classifier(EuclideanDistanceClassifier(), train_features, train_labels))"
   ]
  },
  {
   "cell_type": "markdown",
   "metadata": {},
   "source": [
    "* **Decision Boundary**"
   ]
  },
  {
   "cell_type": "code",
   "execution_count": null,
   "metadata": {},
   "outputs": [
    {
     "data": {
      "image/png": "[encoded data removed]",
      "text/plain": [
       "<Figure size 432x288 with 1 Axes>"
      ]
     },
     "metadata": {},
     "output_type": "display_data"
    },
    {
     "name": "stdout",
     "output_type": "stream",
     "text": [
      "None\n"
     ]
    }
   ],
   "source": [
    "from lib import plot_clf\n",
    "from sklearn.decomposition import PCA\n",
    "from sklearn.preprocessing import StandardScaler \n",
    "unique_labels = np.arange(10) \n",
    "pca = PCA(n_components=2)\n",
    "scaler = StandardScaler()\n",
    "features_scaled = scaler.fit_transform(train_features)\n",
    "\n",
    "pca.fit(features_scaled)\n",
    "\n",
    "print(plot_clf(edc, test_features, test_labels, unique_labels, pca))\n"
   ]
  },
  {
   "cell_type": "markdown",
   "metadata": {},
   "source": [
    "* **Learning Curve**"
   ]
  },
  {
   "cell_type": "code",
   "execution_count": null,
   "metadata": {},
   "outputs": [],
   "source": [
    "from sklearn.model_selection import learning_curve\n",
    "from lib import plot_learning_curve\n",
    "\n",
    "train_sizes, train_scores, test_scores = learning_curve(\n",
    "    EuclideanDistanceClassifier(), train_features, train_labels, cv=5, n_jobs=-1, \n",
    "    train_sizes=np.linspace(.02, 1.0, 5))\n",
    "print(train_features.shape)\n",
    "\n",
    "plot_learning_curve(train_scores, test_scores, train_sizes, ylim= (0.5, 1))"
   ]
  },
  {
   "cell_type": "markdown",
   "metadata": {},
   "source": [
    "## Naive Bayes Estimator"
   ]
  },
  {
   "cell_type": "markdown",
   "metadata": {},
   "source": [
    "*  **Read Data**"
   ]
  },
  {
   "cell_type": "code",
   "execution_count": null,
   "metadata": {},
   "outputs": [],
   "source": [
    "from lib import CustomNBClassifier, calculate_priors\n",
    "import numpy as np\n",
    "import os \n",
    "from sklearn.naive_bayes import GaussianNB\n",
    "from sklearn.svm import SVC\n",
    "from lib import complementary_clfs\n",
    "from sklearn.svm import SVC\n",
    "from sklearn.neighbors import KNeighborsClassifier\n",
    "from lib import EuclideanDistanceClassifier, CustomNBClassifier\n",
    "from sklearn.preprocessing import StandardScaler\n",
    "from sklearn.pipeline import make_pipeline\n",
    "\n",
    "filename = os.path.join(os.getcwd() + '\\data', 'train.txt')\n",
    "X_train = np.genfromtxt(filename)\n",
    "\n",
    "train_features = X_train[:, 1:]\n",
    "train_labels = X_train[:, 0]\n",
    "\n",
    "filename = os.path.join(os.getcwd() + '\\data', 'test.txt')\n",
    "X_test = np.genfromtxt(filename)\n",
    "\n",
    "test_features = X_test[:,1:]\n",
    "test_labels = X_test[:,0]\n",
    "\n",
    "complementary_clfs(train_features, train_labels)"
   ]
  },
  {
   "cell_type": "markdown",
   "metadata": {},
   "source": [
    "* **Fit Data**"
   ]
  },
  {
   "cell_type": "code",
   "execution_count": null,
   "metadata": {},
   "outputs": [],
   "source": [
    "nbc = CustomNBClassifier(var_smoothing= 10 ** (-1))\n",
    "nbc.fit(train_features, train_labels)\n",
    "\n",
    "nbc_unit = CustomNBClassifier(use_unit_variance = True)\n",
    "nbc_unit.fit(train_features, train_labels)\n",
    "\n",
    "original_nbc = GaussianNB()\n",
    "original_nbc.fit(train_features, train_labels)\n",
    "\n",
    "score = nbc.score(test_features, test_labels)\n",
    "unit_score = nbc_unit.score(test_features, test_labels)\n",
    "original_score = original_nbc.score(test_features, test_labels)\n",
    "\n",
    "print('Custom Naive Bayes generalized score =', score)\n",
    "print()\n",
    "print('Naive Bayes with unit var generalized score =', unit_score)\n",
    "print()\n",
    "print('Naive Bayes score =', original_score)"
   ]
  },
  {
   "cell_type": "markdown",
   "metadata": {},
   "source": [
    "* **Classifier Scores**"
   ]
  },
  {
   "cell_type": "code",
   "execution_count": null,
   "metadata": {},
   "outputs": [],
   "source": []
  },
  {
   "cell_type": "markdown",
   "metadata": {},
   "source": [
    "* **Fit sklearn Classifiers**"
   ]
  },
  {
   "cell_type": "code",
   "execution_count": null,
   "metadata": {},
   "outputs": [],
   "source": [
    "svc_poly = make_pipeline(StandardScaler(), SVC(kernel='poly'))\n",
    "svc_poly.fit(train_features, train_labels)"
   ]
  },
  {
   "cell_type": "markdown",
   "metadata": {},
   "source": [
    "* **sklearn classifier scores**"
   ]
  },
  {
   "cell_type": "code",
   "execution_count": null,
   "metadata": {},
   "outputs": [],
   "source": []
  },
  {
   "cell_type": "markdown",
   "metadata": {},
   "source": [
    "* **Show classifier scores**"
   ]
  },
  {
   "cell_type": "code",
   "execution_count": null,
   "metadata": {},
   "outputs": [],
   "source": [
    "print('K Nearest Neighbors score =', neigh_score)\n",
    "print()\n",
    "print('Linear Support Vector Machine score =', lsvc_score)\n",
    "print()\n",
    "print('Polynomial Support Vector Machine score =', psvc_score)\n",
    "print()\n",
    "print('Sigmoid Support Vector Machine score =', sigsvc_score)\n",
    "print()\n",
    "print('Rbf Support Vector Machine score =', rbf_score)\n",
    "print()\n",
    "print('Gaussian Naive Bayes score =', gnb_score)\n",
    "print()\n",
    "print('Euclidean Distance Classifier score=', ecd_score)"
   ]
  },
  {
   "cell_type": "markdown",
   "metadata": {},
   "source": [
    "* **Find classifiers with complementary mistakes**"
   ]
  },
  {
   "cell_type": "code",
   "execution_count": null,
   "metadata": {},
   "outputs": [],
   "source": [
    "from itertools import combinations\n"
   ]
  },
  {
   "cell_type": "code",
   "execution_count": null,
   "metadata": {},
   "outputs": [],
   "source": [
    "print(voting_clfs)\n",
    "print()\n",
    "print(worst_scores)\n",
    "print()\n",
    "print(classifiers)"
   ]
  },
  {
   "cell_type": "code",
   "execution_count": null,
   "metadata": {},
   "outputs": [],
   "source": [
    "from sklearn.ensemble import VotingClassifier\n",
    "from lib import calculate_priors\n",
    "\n",
    "ecd = EuclideanDistanceClassifier()\n"
   ]
  },
  {
   "cell_type": "code",
   "execution_count": null,
   "metadata": {},
   "outputs": [],
   "source": [
    "eclf = VotingClassifier(estimators= [(str(elem), elem) for elem in best_score], voting= 'hard')\n",
    "eclf.fit(train_features, train_labels)\n",
    "print('Generalized score of the best VotingClassifier =',eclf.score(test_features, test_labels))"
   ]
  },
  {
   "cell_type": "code",
   "execution_count": null,
   "metadata": {},
   "outputs": [],
   "source": [
    "lsvc.probability = True\n",
    "psvc.probability = True \n",
    "\n",
    "sigsvc.probability = True\n",
    "rbfsvc.probability = True\n",
    "print(classifiers)\n",
    "\n",
    "ensemble_score_soft = {}\n",
    "for tup in voting_clfs:\n",
    "    print(tup)\n",
    "    eclf = VotingClassifier(estimators=[(str(elem), elem) for elem in tup], voting='soft')\n",
    "    eclf.fit(train_features, train_labels)\n",
    "    ensemble_score_soft[tup] = eclf.score(test_features, test_labels)"
   ]
  },
  {
   "cell_type": "code",
   "execution_count": null,
   "metadata": {},
   "outputs": [],
   "source": [
    "best_score = max(ensemble_score_hard, key = ensemble_score_hard.get)\n",
    "best_score"
   ]
  },
  {
   "cell_type": "markdown",
   "metadata": {},
   "source": []
  },
  {
   "cell_type": "markdown",
   "metadata": {},
   "source": [
    "* **Bagging Classifier**"
   ]
  },
  {
   "cell_type": "code",
   "execution_count": null,
   "metadata": {},
   "outputs": [],
   "source": [
    "from sklearn.ensemble import BaggingClassifier"
   ]
  },
  {
   "cell_type": "code",
   "execution_count": null,
   "metadata": {},
   "outputs": [],
   "source": [
    "from lib import CustomNBClassifier, calculate_priors\n",
    "from sklearn.model_selection import train_test_split\n",
    "import numpy as np\n",
    "import os \n",
    "from sklearn.naive_bayes import GaussianNB\n",
    "from sklearn.svm import SVC\n",
    "filename = os.path.join(os.getcwd() + '\\data', 'train.txt')\n",
    "X_train = np.genfromtxt(filename)\n",
    "\n",
    "train_features = X_train[:, 1:]\n",
    "train_labels = X_train[:, 0]\n",
    "\n",
    "train_features, eval_features, train_labels, eval_labels = \\\n",
    "    train_test_split(train_features, train_labels, train_size=0.33)\n",
    "\n",
    "filename = os.path.join(os.getcwd() + '\\data', 'test.txt')\n",
    "X_test = np.genfromtxt(filename)\n",
    "\n",
    "test_features = X_test[:,1:]\n",
    "test_labels = X_test[:,0]"
   ]
  },
  {
   "cell_type": "code",
   "execution_count": null,
   "metadata": {},
   "outputs": [],
   "source": []
  },
  {
   "cell_type": "code",
   "execution_count": null,
   "metadata": {},
   "outputs": [
    {
     "ename": "NameError",
     "evalue": "name 'train_dl' is not defined",
     "output_type": "error",
     "traceback": [
      "\u001b[1;31m---------------------------------------------------------------------------\u001b[0m",
      "\u001b[1;31mNameError\u001b[0m                                 Traceback (most recent call last)",
      "\u001b[1;32m~\\AppData\\Local\\Temp/ipykernel_9108/2148936826.py\u001b[0m in \u001b[0;36m<module>\u001b[1;34m\u001b[0m\n\u001b[0;32m      1\u001b[0m \u001b[1;32mfrom\u001b[0m \u001b[0mlib\u001b[0m \u001b[1;32mimport\u001b[0m \u001b[0mmyNet\u001b[0m\u001b[1;33m\u001b[0m\u001b[1;33m\u001b[0m\u001b[0m\n\u001b[0;32m      2\u001b[0m \u001b[0mnet\u001b[0m \u001b[1;33m=\u001b[0m \u001b[0mmyNet\u001b[0m\u001b[1;33m(\u001b[0m\u001b[1;36m256\u001b[0m\u001b[1;33m,\u001b[0m \u001b[1;36m100\u001b[0m\u001b[1;33m,\u001b[0m \u001b[1;36m10\u001b[0m\u001b[1;33m)\u001b[0m\u001b[1;33m\u001b[0m\u001b[1;33m\u001b[0m\u001b[0m\n\u001b[1;32m----> 3\u001b[1;33m \u001b[0mnet\u001b[0m\u001b[1;33m.\u001b[0m\u001b[0mfit\u001b[0m\u001b[1;33m(\u001b[0m\u001b[0mtrain_dl\u001b[0m\u001b[1;33m,\u001b[0m \u001b[0mEpochs\u001b[0m\u001b[1;33m=\u001b[0m \u001b[1;36m30\u001b[0m\u001b[1;33m)\u001b[0m\u001b[1;33m\u001b[0m\u001b[1;33m\u001b[0m\u001b[0m\n\u001b[0m\u001b[0;32m      4\u001b[0m \u001b[0mnet\u001b[0m\u001b[1;33m.\u001b[0m\u001b[0mevaluate\u001b[0m\u001b[1;33m(\u001b[0m\u001b[0meval_dl\u001b[0m\u001b[1;33m)\u001b[0m\u001b[1;33m\u001b[0m\u001b[1;33m\u001b[0m\u001b[0m\n",
      "\u001b[1;31mNameError\u001b[0m: name 'train_dl' is not defined"
     ]
    }
   ],
   "source": [
    "from lib import myNet\n",
    "net = myNet(256, 100, 10)\n",
    "net.fit(train_dl, Epochs= 30)\n",
    "net.evaluate(eval_dl)"
   ]
  },
  {
   "cell_type": "code",
   "execution_count": null,
   "metadata": {},
   "outputs": [],
   "source": [
    "from lib import myNet\n",
    "import torch\n",
    "import pandas as pd\n"
   ]
  },
  {
   "cell_type": "code",
   "execution_count": null,
   "metadata": {},
   "outputs": [],
   "source": [
    "import matplotlib.pyplot as plt\n",
    "import pandas as pd\n",
    "from pandas.plotting import table\n",
    "\n",
    "ax = plt.subplot(111, frame_on=False) # no visible frame\n",
    "\n",
    "ax.xaxis.set_visible(False)  # hide the x axis\n",
    "ax.yaxis.set_visible(False)  # hide the y axis\n",
    "\n",
    "table(ax, df, loc='center')  # where df is your data frame\n",
    "\n",
    "plt.savefig('net_params.png')"
   ]
  },
  {
   "cell_type": "code",
   "execution_count": null,
   "metadata": {},
   "outputs": [
    {
     "name": "stdout",
     "output_type": "stream",
     "text": [
      "Epoch: 0 \t Batch: 0 \t Loss 7.840469837188721\n",
      "Epoch: 1 \t Batch: 0 \t Loss 8.623019218444824\n",
      "Epoch: 2 \t Batch: 0 \t Loss 7.7175164222717285\n",
      "Epoch: 3 \t Batch: 0 \t Loss 14.157975196838379\n",
      "Epoch: 4 \t Batch: 0 \t Loss 21.067628860473633\n",
      "Epoch: 5 \t Batch: 0 \t Loss 19.88084602355957\n",
      "Epoch: 6 \t Batch: 0 \t Loss 16.23689842224121\n",
      "Epoch: 7 \t Batch: 0 \t Loss 19.63878631591797\n",
      "Epoch: 8 \t Batch: 0 \t Loss 12.008946418762207\n",
      "Epoch: 9 \t Batch: 0 \t Loss 13.8682222366333\n",
      "Epoch: 10 \t Batch: 0 \t Loss 18.422929763793945\n",
      "Epoch: 11 \t Batch: 0 \t Loss 17.718746185302734\n",
      "Epoch: 12 \t Batch: 0 \t Loss 8.346519470214844\n",
      "Epoch: 13 \t Batch: 0 \t Loss 21.260990142822266\n",
      "Epoch: 14 \t Batch: 0 \t Loss 6.556044578552246\n",
      "Epoch: 15 \t Batch: 0 \t Loss 14.13341236114502\n",
      "Epoch: 16 \t Batch: 0 \t Loss 14.241833686828613\n",
      "Epoch: 17 \t Batch: 0 \t Loss 8.581464767456055\n",
      "Epoch: 18 \t Batch: 0 \t Loss 13.676373481750488\n",
      "Epoch: 19 \t Batch: 0 \t Loss 8.8851318359375\n",
      "Epoch: 20 \t Batch: 0 \t Loss 16.942459106445312\n",
      "Epoch: 21 \t Batch: 0 \t Loss 8.43913745880127\n",
      "Epoch: 22 \t Batch: 0 \t Loss 18.06791114807129\n",
      "Epoch: 23 \t Batch: 0 \t Loss 6.527875900268555\n",
      "Epoch: 24 \t Batch: 0 \t Loss 6.737809658050537\n",
      "Epoch: 25 \t Batch: 0 \t Loss 6.751710414886475\n",
      "Epoch: 26 \t Batch: 0 \t Loss 11.521651268005371\n",
      "Epoch: 27 \t Batch: 0 \t Loss 12.200848579406738\n",
      "Epoch: 28 \t Batch: 0 \t Loss 6.537097454071045\n",
      "Epoch: 29 \t Batch: 0 \t Loss 5.157577037811279\n",
      "Epoch: 30 \t Batch: 0 \t Loss 1.6534956693649292\n",
      "Epoch: 31 \t Batch: 0 \t Loss 5.226218223571777\n",
      "Epoch: 32 \t Batch: 0 \t Loss 7.376784324645996\n",
      "Epoch: 33 \t Batch: 0 \t Loss 3.960771083831787\n",
      "Epoch: 34 \t Batch: 0 \t Loss 6.185279846191406\n",
      "Epoch: 35 \t Batch: 0 \t Loss 5.718013286590576\n",
      "Epoch: 36 \t Batch: 0 \t Loss 1.8406051397323608\n",
      "Epoch: 37 \t Batch: 0 \t Loss 1.6416960954666138\n",
      "Epoch: 38 \t Batch: 0 \t Loss 5.165409088134766\n",
      "Epoch: 39 \t Batch: 0 \t Loss 5.5072712898254395\n",
      "Epoch: 40 \t Batch: 0 \t Loss 3.6313560009002686\n",
      "Epoch: 41 \t Batch: 0 \t Loss 1.9215521812438965\n",
      "Epoch: 42 \t Batch: 0 \t Loss 1.0551091432571411\n",
      "Epoch: 43 \t Batch: 0 \t Loss 3.0228333473205566\n",
      "Epoch: 44 \t Batch: 0 \t Loss 2.5116734504699707\n",
      "Epoch: 45 \t Batch: 0 \t Loss 0.6112901568412781\n",
      "Epoch: 46 \t Batch: 0 \t Loss 3.146289825439453\n",
      "Epoch: 47 \t Batch: 0 \t Loss 5.984241962432861\n",
      "Epoch: 48 \t Batch: 0 \t Loss 3.474018096923828\n",
      "Epoch: 49 \t Batch: 0 \t Loss 3.2313179969787598\n",
      "Epoch: 50 \t Batch: 0 \t Loss 1.7870385646820068\n",
      "Epoch: 51 \t Batch: 0 \t Loss 0.7966669201850891\n",
      "Epoch: 52 \t Batch: 0 \t Loss 1.6166104078292847\n",
      "Epoch: 53 \t Batch: 0 \t Loss 2.76296329498291\n",
      "Epoch: 54 \t Batch: 0 \t Loss 3.52825927734375\n",
      "Epoch: 55 \t Batch: 0 \t Loss 0.8269761800765991\n",
      "Epoch: 56 \t Batch: 0 \t Loss 1.8987759351730347\n",
      "Epoch: 57 \t Batch: 0 \t Loss 4.043346881866455\n",
      "Epoch: 58 \t Batch: 0 \t Loss 0.8296455144882202\n",
      "Epoch: 59 \t Batch: 0 \t Loss 1.751253604888916\n",
      "Epoch: 60 \t Batch: 0 \t Loss 0.46373385190963745\n",
      "Epoch: 61 \t Batch: 0 \t Loss 0.9561280608177185\n",
      "Epoch: 62 \t Batch: 0 \t Loss 0.7602542638778687\n",
      "Epoch: 63 \t Batch: 0 \t Loss 2.2795603275299072\n",
      "Epoch: 64 \t Batch: 0 \t Loss 0.6804574131965637\n",
      "Epoch: 65 \t Batch: 0 \t Loss 0.6585492491722107\n",
      "Epoch: 66 \t Batch: 0 \t Loss 1.2185471057891846\n",
      "Epoch: 67 \t Batch: 0 \t Loss 0.2099006623029709\n",
      "Epoch: 68 \t Batch: 0 \t Loss 0.9136565923690796\n",
      "Epoch: 69 \t Batch: 0 \t Loss 0.5772902369499207\n",
      "Epoch: 70 \t Batch: 0 \t Loss 0.6468974351882935\n",
      "Epoch: 71 \t Batch: 0 \t Loss 0.4044760465621948\n",
      "Epoch: 72 \t Batch: 0 \t Loss 1.5708489418029785\n",
      "Epoch: 73 \t Batch: 0 \t Loss 0.5406709313392639\n",
      "Epoch: 74 \t Batch: 0 \t Loss 0.6344298124313354\n",
      "Epoch: 75 \t Batch: 0 \t Loss 0.7496891617774963\n",
      "Epoch: 76 \t Batch: 0 \t Loss 0.680999219417572\n",
      "Epoch: 77 \t Batch: 0 \t Loss 0.4270505905151367\n",
      "Epoch: 78 \t Batch: 0 \t Loss 0.26727890968322754\n",
      "Epoch: 79 \t Batch: 0 \t Loss 0.6670164465904236\n",
      "Epoch: 80 \t Batch: 0 \t Loss 0.6615049242973328\n",
      "Epoch: 81 \t Batch: 0 \t Loss 0.3442223072052002\n",
      "Epoch: 82 \t Batch: 0 \t Loss 0.1414201259613037\n",
      "Epoch: 83 \t Batch: 0 \t Loss 0.27383068203926086\n",
      "Epoch: 84 \t Batch: 0 \t Loss 0.5326681733131409\n",
      "Epoch: 85 \t Batch: 0 \t Loss 0.8471632599830627\n",
      "Epoch: 86 \t Batch: 0 \t Loss 1.3074450492858887\n",
      "Epoch: 87 \t Batch: 0 \t Loss 0.42386093735694885\n",
      "Epoch: 88 \t Batch: 0 \t Loss 0.8804569244384766\n",
      "Epoch: 89 \t Batch: 0 \t Loss 0.1481764316558838\n",
      "Epoch: 90 \t Batch: 0 \t Loss 1.1606072187423706\n",
      "Epoch: 91 \t Batch: 0 \t Loss 0.09880875796079636\n",
      "Epoch: 92 \t Batch: 0 \t Loss 0.4610174894332886\n",
      "Epoch: 93 \t Batch: 0 \t Loss 0.5086383819580078\n",
      "Epoch: 94 \t Batch: 0 \t Loss 0.7198432683944702\n",
      "Epoch: 95 \t Batch: 0 \t Loss 0.9376586079597473\n",
      "Epoch: 96 \t Batch: 0 \t Loss 0.8504085540771484\n",
      "Epoch: 97 \t Batch: 0 \t Loss 0.4190630316734314\n",
      "Epoch: 98 \t Batch: 0 \t Loss 0.45037978887557983\n",
      "Epoch: 99 \t Batch: 0 \t Loss 0.6899032592773438\n",
      "Epoch: 100 \t Batch: 0 \t Loss 1.1074475049972534\n",
      "Epoch: 101 \t Batch: 0 \t Loss 1.0682239532470703\n",
      "Epoch: 102 \t Batch: 0 \t Loss 0.3465106785297394\n",
      "Epoch: 103 \t Batch: 0 \t Loss 0.4161580801010132\n",
      "Epoch: 104 \t Batch: 0 \t Loss 0.16473226249217987\n",
      "Epoch: 105 \t Batch: 0 \t Loss 0.8987894058227539\n",
      "Epoch: 106 \t Batch: 0 \t Loss 0.4720911681652069\n",
      "Epoch: 107 \t Batch: 0 \t Loss 0.15811491012573242\n",
      "Epoch: 108 \t Batch: 0 \t Loss 0.5392187237739563\n",
      "Epoch: 109 \t Batch: 0 \t Loss 0.3179425299167633\n",
      "Epoch: 110 \t Batch: 0 \t Loss 0.45047807693481445\n",
      "Epoch: 111 \t Batch: 0 \t Loss 0.5144462585449219\n",
      "Epoch: 112 \t Batch: 0 \t Loss 0.23719239234924316\n",
      "Epoch: 113 \t Batch: 0 \t Loss 0.48730045557022095\n",
      "Epoch: 114 \t Batch: 0 \t Loss 0.10409871488809586\n",
      "Epoch: 115 \t Batch: 0 \t Loss 0.2094665914773941\n",
      "Epoch: 116 \t Batch: 0 \t Loss 0.4229509234428406\n",
      "Epoch: 117 \t Batch: 0 \t Loss 0.3014823794364929\n",
      "Epoch: 118 \t Batch: 0 \t Loss 0.37352219223976135\n",
      "Epoch: 119 \t Batch: 0 \t Loss 0.22817549109458923\n",
      "Epoch: 120 \t Batch: 0 \t Loss 0.533747673034668\n",
      "Epoch: 121 \t Batch: 0 \t Loss 0.32276859879493713\n",
      "Epoch: 122 \t Batch: 0 \t Loss 1.1368528604507446\n",
      "Epoch: 123 \t Batch: 0 \t Loss 0.2460649609565735\n",
      "Epoch: 124 \t Batch: 0 \t Loss 0.3854707181453705\n",
      "Epoch: 125 \t Batch: 0 \t Loss 0.12410945445299149\n",
      "Epoch: 126 \t Batch: 0 \t Loss 0.272004097700119\n",
      "Epoch: 127 \t Batch: 0 \t Loss 0.27068832516670227\n",
      "Epoch: 128 \t Batch: 0 \t Loss 0.1691220998764038\n",
      "Epoch: 129 \t Batch: 0 \t Loss 0.09626785665750504\n",
      "Epoch: 130 \t Batch: 0 \t Loss 0.27767571806907654\n",
      "Epoch: 131 \t Batch: 0 \t Loss 0.28925660252571106\n",
      "Epoch: 132 \t Batch: 0 \t Loss 1.035714864730835\n",
      "Epoch: 133 \t Batch: 0 \t Loss 0.2913708984851837\n",
      "Epoch: 134 \t Batch: 0 \t Loss 0.4579654335975647\n",
      "Epoch: 135 \t Batch: 0 \t Loss 0.43265461921691895\n",
      "Epoch: 136 \t Batch: 0 \t Loss 0.3030116856098175\n",
      "Epoch: 137 \t Batch: 0 \t Loss 0.19280825555324554\n",
      "Epoch: 138 \t Batch: 0 \t Loss 0.7210162281990051\n",
      "Epoch: 139 \t Batch: 0 \t Loss 0.17077481746673584\n",
      "Epoch: 140 \t Batch: 0 \t Loss 0.13046425580978394\n",
      "Epoch: 141 \t Batch: 0 \t Loss 0.214041069149971\n",
      "Epoch: 142 \t Batch: 0 \t Loss 0.31629446148872375\n",
      "Epoch: 143 \t Batch: 0 \t Loss 0.37619730830192566\n",
      "Epoch: 144 \t Batch: 0 \t Loss 0.15379983186721802\n",
      "Epoch: 145 \t Batch: 0 \t Loss 0.1917400062084198\n",
      "Epoch: 146 \t Batch: 0 \t Loss 0.2947235107421875\n",
      "Epoch: 147 \t Batch: 0 \t Loss 0.1587165743112564\n",
      "Epoch: 148 \t Batch: 0 \t Loss 0.16629528999328613\n",
      "Epoch: 149 \t Batch: 0 \t Loss 0.09460746496915817\n",
      "Epoch: 150 \t Batch: 0 \t Loss 2.739713430404663\n",
      "Epoch: 151 \t Batch: 0 \t Loss 0.11040032655000687\n",
      "Epoch: 152 \t Batch: 0 \t Loss 0.16964738070964813\n",
      "Epoch: 153 \t Batch: 0 \t Loss 1.6487013101577759\n",
      "Epoch: 154 \t Batch: 0 \t Loss 0.22281599044799805\n",
      "Epoch: 155 \t Batch: 0 \t Loss 0.14072832465171814\n",
      "Epoch: 156 \t Batch: 0 \t Loss 0.17656810581684113\n",
      "Epoch: 157 \t Batch: 0 \t Loss 0.15490630269050598\n",
      "Epoch: 158 \t Batch: 0 \t Loss 0.20081770420074463\n",
      "Epoch: 159 \t Batch: 0 \t Loss 0.5482314825057983\n",
      "Epoch: 160 \t Batch: 0 \t Loss 0.3390333950519562\n",
      "Epoch: 161 \t Batch: 0 \t Loss 0.25356054306030273\n",
      "Epoch: 162 \t Batch: 0 \t Loss 0.08316347002983093\n",
      "Epoch: 163 \t Batch: 0 \t Loss 0.06356284022331238\n",
      "Epoch: 164 \t Batch: 0 \t Loss 0.0885719582438469\n",
      "Epoch: 165 \t Batch: 0 \t Loss 0.3107719123363495\n",
      "Epoch: 166 \t Batch: 0 \t Loss 0.291072815656662\n",
      "Epoch: 167 \t Batch: 0 \t Loss 0.17113998532295227\n",
      "Epoch: 168 \t Batch: 0 \t Loss 0.3171430826187134\n",
      "Epoch: 169 \t Batch: 0 \t Loss 0.04244659096002579\n",
      "Epoch: 170 \t Batch: 0 \t Loss 0.026828749105334282\n",
      "Epoch: 171 \t Batch: 0 \t Loss 0.07357113063335419\n",
      "Epoch: 172 \t Batch: 0 \t Loss 0.1161285787820816\n",
      "Epoch: 173 \t Batch: 0 \t Loss 0.43123728036880493\n",
      "Epoch: 174 \t Batch: 0 \t Loss 0.9501312971115112\n",
      "Epoch: 175 \t Batch: 0 \t Loss 0.4225251376628876\n",
      "Epoch: 176 \t Batch: 0 \t Loss 0.16171671450138092\n",
      "Epoch: 177 \t Batch: 0 \t Loss 0.8535965085029602\n",
      "Epoch: 178 \t Batch: 0 \t Loss 0.1361442506313324\n",
      "Epoch: 179 \t Batch: 0 \t Loss 0.16789166629314423\n",
      "Epoch: 180 \t Batch: 0 \t Loss 0.7288626432418823\n",
      "Epoch: 181 \t Batch: 0 \t Loss 0.3164317011833191\n",
      "Epoch: 182 \t Batch: 0 \t Loss 0.1861337125301361\n",
      "Epoch: 183 \t Batch: 0 \t Loss 0.20088015496730804\n",
      "Epoch: 184 \t Batch: 0 \t Loss 0.11371198296546936\n",
      "Epoch: 185 \t Batch: 0 \t Loss 0.3363773822784424\n",
      "Epoch: 186 \t Batch: 0 \t Loss 0.13079005479812622\n",
      "Epoch: 187 \t Batch: 0 \t Loss 0.2179093360900879\n",
      "Epoch: 188 \t Batch: 0 \t Loss 0.1881759911775589\n",
      "Epoch: 189 \t Batch: 0 \t Loss 0.16157260537147522\n",
      "Epoch: 190 \t Batch: 0 \t Loss 0.16329428553581238\n",
      "Epoch: 191 \t Batch: 0 \t Loss 0.11499186605215073\n",
      "Epoch: 192 \t Batch: 0 \t Loss 0.32648709416389465\n",
      "Epoch: 193 \t Batch: 0 \t Loss 0.2721252739429474\n",
      "Epoch: 194 \t Batch: 0 \t Loss 0.2862362265586853\n",
      "Epoch: 195 \t Batch: 0 \t Loss 0.10155590623617172\n",
      "Epoch: 196 \t Batch: 0 \t Loss 0.09690754860639572\n",
      "Epoch: 197 \t Batch: 0 \t Loss 0.7108560800552368\n",
      "Epoch: 198 \t Batch: 0 \t Loss 0.19170626997947693\n",
      "Epoch: 199 \t Batch: 0 \t Loss 0.17805401980876923\n"
     ]
    }
   ],
   "source": [
    "from lib import PytorchNNModel\n",
    "from lib import myNet\n",
    "import torch\n",
    "import torch.nn as nn\n",
    "from lib import evaluate_classifier\n",
    "\n",
    "pnn = PytorchNNModel(myNet(256, 600, 10), nn.CrossEntropyLoss(), \n",
    "    torch.optim.SGD(myNet(256, 600, 10).parameters(), \n",
    "    lr = 0.002))\n",
    "\n",
    "pnn.fit(train_features, train_labels)\n",
    "train_features, eval_features, train_labels, eval_labels = \\\n",
    "      train_test_split(train_features, train_labels, train_size=0.33)\n",
    "\n",
    "# evaluate_classifier(pnn.model, eval_features, eval_labels)"
   ]
  },
  {
   "cell_type": "code",
   "execution_count": null,
   "metadata": {},
   "outputs": [
    {
     "data": {
      "text/plain": [
       "0.8943697060288989"
      ]
     },
     "execution_count": 5,
     "metadata": {},
     "output_type": "execute_result"
    }
   ],
   "source": [
    "y_pred = pnn.predict(test_features)\n",
    "pnn.score(test_features, test_labels)"
   ]
  }
 ],
 "metadata": {
  "interpreter": {
   "hash": "febecdb1eb6b34938a8d9233982be429a4d5574e5669ef47d7fe2b71259269a0"
  },
  "kernelspec": {
   "display_name": "Python 3.9.7 64-bit ('Patternenv': venv)",
   "name": "python3"
  },
  "language_info": {
   "codemirror_mode": {
    "name": "ipython",
    "version": 3
   },
   "file_extension": ".py",
   "mimetype": "text/x-python",
   "name": "python",
   "nbconvert_exporter": "python",
   "pygments_lexer": "ipython3",
   "version": "3.10.0"
  },
  "orig_nbformat": 4
 },
 "nbformat": 4,
 "nbformat_minor": 2
}
